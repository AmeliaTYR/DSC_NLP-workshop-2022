{
  "nbformat": 4,
  "nbformat_minor": 0,
  "metadata": {
    "colab": {
      "name": "Kernel SVM example(Participant).ipynb",
      "provenance": [],
      "collapsed_sections": [
        "K1VMqkGvhc3-",
        "YvxIPVyMhmKp"
      ],
      "machine_shape": "hm",
      "include_colab_link": true
    },
    "kernelspec": {
      "name": "python3",
      "display_name": "Python 3"
    }
  },
  "cells": [
    {
      "cell_type": "markdown",
      "metadata": {
        "id": "view-in-github",
        "colab_type": "text"
      },
      "source": [
        "<a href=\"https://colab.research.google.com/github/AmeliaTYR/DSC_NLP-workshop-2022/blob/main/Kernel_SVM_example(Participant).ipynb\" target=\"_parent\"><img src=\"https://colab.research.google.com/assets/colab-badge.svg\" alt=\"Open In Colab\"/></a>"
      ]
    },
    {
      "cell_type": "markdown",
      "metadata": {
        "id": "0MRC0e0KhQ0S"
      },
      "source": [
        "# Using Kernel SVM to analyse the reliability of a salary-age dataset"
      ]
    },
    {
      "cell_type": "markdown",
      "metadata": {
        "id": "LWd1UlMnhT2s"
      },
      "source": [
        "## Importing the libraries"
      ]
    },
    {
      "cell_type": "code",
      "metadata": {
        "id": "YvGPUQaHhXfL"
      },
      "source": [
        "import numpy as np\n",
        "import pandas as pd\n",
        "#this is simply for coloring the confusion matrix. Green for successful prediction, red for failed prediction\n",
        "import sys\n",
        "from termcolor import colored, cprint"
      ],
      "execution_count": null,
      "outputs": []
    },
    {
      "cell_type": "markdown",
      "metadata": {
        "id": "K1VMqkGvhc3-"
      },
      "source": [
        "## Importing the dataset"
      ]
    },
    {
      "cell_type": "code",
      "metadata": {
        "id": "M52QDmyzhh9s"
      },
      "source": [
        "dataset = pd.read_csv('Purchase_data.csv')\n",
        "X = dataset.iloc[:, :-1].values\n",
        "y = dataset.iloc[:, -1].values"
      ],
      "execution_count": null,
      "outputs": []
    },
    {
      "cell_type": "markdown",
      "metadata": {
        "id": "xkqXo5Bs6avI"
      },
      "source": [
        "- This code block reads our .csv file and places the data in 2 lists, one for the input(X) and the other for the output(Y)"
      ]
    },
    {
      "cell_type": "markdown",
      "metadata": {
        "id": "YvxIPVyMhmKp"
      },
      "source": [
        "## Splitting the dataset into the Training set and Test set"
      ]
    },
    {
      "cell_type": "code",
      "metadata": {
        "id": "AVzJWAXIhxoC"
      },
      "source": [
        "from sklearn.model_selection import train_test_split\n",
        "X_train, X_test, y_train, y_test = train_test_split(X, y, test_size = 0.25, random_state = 0)"
      ],
      "execution_count": null,
      "outputs": []
    },
    {
      "cell_type": "markdown",
      "metadata": {
        "id": "I3-5JJW_7Rxy"
      },
      "source": [
        "- By amending the values of test_size, we can change the proportion of data used for the test set vs data set: 0.25 means 25% of the data for test set, and the rest for the training set"
      ]
    },
    {
      "cell_type": "markdown",
      "metadata": {
        "id": "kW3c7UYih0hT"
      },
      "source": [
        "## Feature Scaling"
      ]
    },
    {
      "cell_type": "markdown",
      "metadata": {
        "id": "F_5apRJl8VuW"
      },
      "source": [
        "- Feature scaling is used to map our input data/Independent Variables e.g. age) which can range from 0 to over 100, (to a smaller range, to enhance the accuracy of our model.\n",
        "\n",
        "- This is an especially important step for datasets with multiple IVs of different magnitudes. Else, the model might deem an IV of greater order of magnitude to be more 'important'.\n",
        "\n"
      ]
    },
    {
      "cell_type": "code",
      "metadata": {
        "id": "9fQlDPKCh8sc"
      },
      "source": [
        "from sklearn.preprocessing import StandardScaler\n",
        "sc = StandardScaler()\n",
        "X_train = sc.fit_transform(X_train)\n",
        "X_test = sc.transform(X_test)"
      ],
      "execution_count": null,
      "outputs": []
    },
    {
      "cell_type": "markdown",
      "metadata": {
        "id": "bb6jCOCQiAmP"
      },
      "source": [
        "## Training the Kernel SVM model on the Training set"
      ]
    },
    {
      "cell_type": "code",
      "metadata": {
        "id": "e0pFVAmciHQs",
        "colab": {
          "base_uri": "https://localhost:8080/"
        },
        "outputId": "1a032282-0420-4990-f10d-012a706ba2ca"
      },
      "source": [
        "from sklearn.svm import SVC\n",
        "classifier = SVC(kernel = 'rbf', random_state = 0)\n",
        "classifier.fit(X_train, y_train)"
      ],
      "execution_count": null,
      "outputs": [
        {
          "output_type": "execute_result",
          "data": {
            "text/plain": [
              "SVC(random_state=0)"
            ]
          },
          "metadata": {},
          "execution_count": 11
        }
      ]
    },
    {
      "cell_type": "markdown",
      "metadata": {
        "id": "yyxW5b395mR2"
      },
      "source": [
        "## Predicting a new result"
      ]
    },
    {
      "cell_type": "code",
      "metadata": {
        "id": "f8YOXsQy58rP",
        "colab": {
          "base_uri": "https://localhost:8080/"
        },
        "outputId": "eb714bfd-da43-4de2-f6d2-36683a68721f"
      },
      "source": [
        "print(classifier.predict(sc.transform([[30,87000]])))"
      ],
      "execution_count": null,
      "outputs": [
        {
          "output_type": "stream",
          "name": "stdout",
          "text": [
            "[0]\n"
          ]
        }
      ]
    },
    {
      "cell_type": "markdown",
      "metadata": {
        "id": "vKYVQH-l5NpE"
      },
      "source": [
        "## Predicting the Test set results"
      ]
    },
    {
      "cell_type": "code",
      "metadata": {
        "id": "p6VMTb2O4hwM",
        "colab": {
          "base_uri": "https://localhost:8080/"
        },
        "outputId": "e3d46ca3-9c40-41f1-a21e-df95f0827646"
      },
      "source": [
        "y_pred = classifier.predict(X_test)\n",
        "text = np.concatenate((y_pred.reshape(len(y_pred),1), y_test.reshape(len(y_test),1)),1)\n",
        "for item in text:\n",
        "  if item[0] != item[1]:\n",
        "    print(colored(item, 'red', attrs=['reverse','blink']))\n",
        "  else:\n",
        "    print(colored(item, 'green', attrs=['reverse', 'blink']))"
      ],
      "execution_count": null,
      "outputs": [
        {
          "output_type": "stream",
          "name": "stdout",
          "text": [
            "\u001b[5m\u001b[7m\u001b[32m[0 0]\u001b[0m\n",
            "\u001b[5m\u001b[7m\u001b[32m[0 0]\u001b[0m\n",
            "\u001b[5m\u001b[7m\u001b[32m[0 0]\u001b[0m\n",
            "\u001b[5m\u001b[7m\u001b[32m[0 0]\u001b[0m\n",
            "\u001b[5m\u001b[7m\u001b[32m[0 0]\u001b[0m\n",
            "\u001b[5m\u001b[7m\u001b[32m[0 0]\u001b[0m\n",
            "\u001b[5m\u001b[7m\u001b[32m[0 0]\u001b[0m\n",
            "\u001b[5m\u001b[7m\u001b[32m[1 1]\u001b[0m\n",
            "\u001b[5m\u001b[7m\u001b[32m[0 0]\u001b[0m\n",
            "\u001b[5m\u001b[7m\u001b[31m[1 0]\u001b[0m\n",
            "\u001b[5m\u001b[7m\u001b[32m[0 0]\u001b[0m\n",
            "\u001b[5m\u001b[7m\u001b[32m[0 0]\u001b[0m\n",
            "\u001b[5m\u001b[7m\u001b[32m[0 0]\u001b[0m\n",
            "\u001b[5m\u001b[7m\u001b[32m[0 0]\u001b[0m\n",
            "\u001b[5m\u001b[7m\u001b[32m[0 0]\u001b[0m\n",
            "\u001b[5m\u001b[7m\u001b[31m[1 0]\u001b[0m\n",
            "\u001b[5m\u001b[7m\u001b[32m[0 0]\u001b[0m\n",
            "\u001b[5m\u001b[7m\u001b[32m[0 0]\u001b[0m\n",
            "\u001b[5m\u001b[7m\u001b[32m[1 1]\u001b[0m\n",
            "\u001b[5m\u001b[7m\u001b[32m[0 0]\u001b[0m\n",
            "\u001b[5m\u001b[7m\u001b[32m[0 0]\u001b[0m\n",
            "\u001b[5m\u001b[7m\u001b[32m[1 1]\u001b[0m\n",
            "\u001b[5m\u001b[7m\u001b[32m[0 0]\u001b[0m\n",
            "\u001b[5m\u001b[7m\u001b[32m[1 1]\u001b[0m\n",
            "\u001b[5m\u001b[7m\u001b[32m[0 0]\u001b[0m\n",
            "\u001b[5m\u001b[7m\u001b[32m[1 1]\u001b[0m\n",
            "\u001b[5m\u001b[7m\u001b[32m[0 0]\u001b[0m\n",
            "\u001b[5m\u001b[7m\u001b[32m[0 0]\u001b[0m\n",
            "\u001b[5m\u001b[7m\u001b[32m[0 0]\u001b[0m\n",
            "\u001b[5m\u001b[7m\u001b[32m[0 0]\u001b[0m\n",
            "\u001b[5m\u001b[7m\u001b[32m[0 0]\u001b[0m\n",
            "\u001b[5m\u001b[7m\u001b[31m[0 1]\u001b[0m\n",
            "\u001b[5m\u001b[7m\u001b[32m[1 1]\u001b[0m\n",
            "\u001b[5m\u001b[7m\u001b[32m[0 0]\u001b[0m\n",
            "\u001b[5m\u001b[7m\u001b[32m[0 0]\u001b[0m\n",
            "\u001b[5m\u001b[7m\u001b[32m[0 0]\u001b[0m\n",
            "\u001b[5m\u001b[7m\u001b[32m[0 0]\u001b[0m\n",
            "\u001b[5m\u001b[7m\u001b[32m[0 0]\u001b[0m\n",
            "\u001b[5m\u001b[7m\u001b[32m[0 0]\u001b[0m\n",
            "\u001b[5m\u001b[7m\u001b[32m[1 1]\u001b[0m\n",
            "\u001b[5m\u001b[7m\u001b[32m[0 0]\u001b[0m\n",
            "\u001b[5m\u001b[7m\u001b[32m[0 0]\u001b[0m\n",
            "\u001b[5m\u001b[7m\u001b[32m[0 0]\u001b[0m\n",
            "\u001b[5m\u001b[7m\u001b[32m[0 0]\u001b[0m\n",
            "\u001b[5m\u001b[7m\u001b[32m[1 1]\u001b[0m\n",
            "\u001b[5m\u001b[7m\u001b[32m[0 0]\u001b[0m\n",
            "\u001b[5m\u001b[7m\u001b[32m[0 0]\u001b[0m\n",
            "\u001b[5m\u001b[7m\u001b[32m[1 1]\u001b[0m\n",
            "\u001b[5m\u001b[7m\u001b[32m[0 0]\u001b[0m\n",
            "\u001b[5m\u001b[7m\u001b[32m[1 1]\u001b[0m\n",
            "\u001b[5m\u001b[7m\u001b[32m[1 1]\u001b[0m\n",
            "\u001b[5m\u001b[7m\u001b[32m[0 0]\u001b[0m\n",
            "\u001b[5m\u001b[7m\u001b[32m[0 0]\u001b[0m\n",
            "\u001b[5m\u001b[7m\u001b[31m[1 0]\u001b[0m\n",
            "\u001b[5m\u001b[7m\u001b[32m[1 1]\u001b[0m\n",
            "\u001b[5m\u001b[7m\u001b[32m[1 1]\u001b[0m\n",
            "\u001b[5m\u001b[7m\u001b[32m[0 0]\u001b[0m\n",
            "\u001b[5m\u001b[7m\u001b[32m[0 0]\u001b[0m\n",
            "\u001b[5m\u001b[7m\u001b[32m[1 1]\u001b[0m\n",
            "\u001b[5m\u001b[7m\u001b[32m[0 0]\u001b[0m\n",
            "\u001b[5m\u001b[7m\u001b[32m[0 0]\u001b[0m\n",
            "\u001b[5m\u001b[7m\u001b[32m[1 1]\u001b[0m\n",
            "\u001b[5m\u001b[7m\u001b[32m[0 0]\u001b[0m\n",
            "\u001b[5m\u001b[7m\u001b[32m[1 1]\u001b[0m\n",
            "\u001b[5m\u001b[7m\u001b[32m[0 0]\u001b[0m\n",
            "\u001b[5m\u001b[7m\u001b[32m[1 1]\u001b[0m\n",
            "\u001b[5m\u001b[7m\u001b[32m[0 0]\u001b[0m\n",
            "\u001b[5m\u001b[7m\u001b[32m[0 0]\u001b[0m\n",
            "\u001b[5m\u001b[7m\u001b[32m[0 0]\u001b[0m\n",
            "\u001b[5m\u001b[7m\u001b[32m[0 0]\u001b[0m\n",
            "\u001b[5m\u001b[7m\u001b[32m[1 1]\u001b[0m\n",
            "\u001b[5m\u001b[7m\u001b[32m[0 0]\u001b[0m\n",
            "\u001b[5m\u001b[7m\u001b[32m[0 0]\u001b[0m\n",
            "\u001b[5m\u001b[7m\u001b[32m[1 1]\u001b[0m\n",
            "\u001b[5m\u001b[7m\u001b[32m[0 0]\u001b[0m\n",
            "\u001b[5m\u001b[7m\u001b[32m[0 0]\u001b[0m\n",
            "\u001b[5m\u001b[7m\u001b[32m[0 0]\u001b[0m\n",
            "\u001b[5m\u001b[7m\u001b[32m[0 0]\u001b[0m\n",
            "\u001b[5m\u001b[7m\u001b[32m[1 1]\u001b[0m\n",
            "\u001b[5m\u001b[7m\u001b[32m[1 1]\u001b[0m\n",
            "\u001b[5m\u001b[7m\u001b[32m[1 1]\u001b[0m\n",
            "\u001b[5m\u001b[7m\u001b[31m[1 0]\u001b[0m\n",
            "\u001b[5m\u001b[7m\u001b[32m[0 0]\u001b[0m\n",
            "\u001b[5m\u001b[7m\u001b[32m[0 0]\u001b[0m\n",
            "\u001b[5m\u001b[7m\u001b[32m[1 1]\u001b[0m\n",
            "\u001b[5m\u001b[7m\u001b[31m[0 1]\u001b[0m\n",
            "\u001b[5m\u001b[7m\u001b[32m[0 0]\u001b[0m\n",
            "\u001b[5m\u001b[7m\u001b[32m[1 1]\u001b[0m\n",
            "\u001b[5m\u001b[7m\u001b[32m[1 1]\u001b[0m\n",
            "\u001b[5m\u001b[7m\u001b[32m[0 0]\u001b[0m\n",
            "\u001b[5m\u001b[7m\u001b[32m[0 0]\u001b[0m\n",
            "\u001b[5m\u001b[7m\u001b[32m[1 1]\u001b[0m\n",
            "\u001b[5m\u001b[7m\u001b[32m[0 0]\u001b[0m\n",
            "\u001b[5m\u001b[7m\u001b[32m[0 0]\u001b[0m\n",
            "\u001b[5m\u001b[7m\u001b[32m[0 0]\u001b[0m\n",
            "\u001b[5m\u001b[7m\u001b[31m[0 1]\u001b[0m\n",
            "\u001b[5m\u001b[7m\u001b[32m[0 0]\u001b[0m\n",
            "\u001b[5m\u001b[7m\u001b[32m[1 1]\u001b[0m\n",
            "\u001b[5m\u001b[7m\u001b[32m[1 1]\u001b[0m\n",
            "\u001b[5m\u001b[7m\u001b[32m[1 1]\u001b[0m\n"
          ]
        }
      ]
    },
    {
      "cell_type": "markdown",
      "metadata": {
        "id": "h4Hwj34ziWQW"
      },
      "source": [
        "## Making the Confusion Matrix"
      ]
    },
    {
      "cell_type": "code",
      "metadata": {
        "id": "D6bpZwUiiXic",
        "colab": {
          "base_uri": "https://localhost:8080/"
        },
        "outputId": "731da257-aa01-414d-e6dd-6567b763f168"
      },
      "source": [
        "from sklearn.metrics import confusion_matrix, accuracy_score\n",
        "cm = confusion_matrix(y_test, y_pred)\n",
        "print(cm)\n",
        "accuracy_score(y_test, y_pred)"
      ],
      "execution_count": null,
      "outputs": [
        {
          "output_type": "stream",
          "name": "stdout",
          "text": [
            "[[64  4]\n",
            " [ 3 29]]\n"
          ]
        },
        {
          "output_type": "execute_result",
          "data": {
            "text/plain": [
              "0.93"
            ]
          },
          "metadata": {},
          "execution_count": 14
        }
      ]
    }
  ]
}